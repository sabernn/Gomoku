{
 "cells": [
  {
   "cell_type": "code",
   "execution_count": 8,
   "metadata": {},
   "outputs": [],
   "source": [
    "from MCTSBase import TreeNode"
   ]
  },
  {
   "cell_type": "code",
   "execution_count": 9,
   "metadata": {},
   "outputs": [],
   "source": [
    "class TreeNodeSaber(TreeNode):\n",
    "    '''\n",
    "    Some comments!\n",
    "    '''\n",
    "\n",
    "    def is_terminal(self):\n",
    "        # Write some code here!\n",
    "        print(\"This is a terminal node you stupid!\")\n",
    "\n",
    "        pass\n",
    "\n",
    "    def value(self):\n",
    "        '''\n",
    "        :return: the value of the node form the current player's point of view\n",
    "        '''\n",
    "        # Write some code here!\n",
    "\n",
    "\n",
    "        pass\n",
    "\n",
    "    def find_action(self):\n",
    "        # Write some code here!\n",
    "        from random import randrange\n",
    "\n",
    "        # You should retern the action \"a\" which is the position of the 11x11 board here.\n",
    "        print(dir(self))\n",
    "        a=(randrange(3),randrange(3))\n",
    "\n",
    "        return a\n",
    "\n",
    "        # pass\n",
    "\n",
    "    def update(self, v):\n",
    "        # Write some code here!\n",
    "\n",
    "        # From class:\n",
    "        # V(s)=[V(s)*(# of times going through s)+ v]/(k+1)\n",
    "        # Q(s,a)=[Q(s,a)*(# of time going down s-a, say k)+v]/(k+1) \"The term in parenthesis is the total reward\"\n",
    "        # You should know \"a\" which is the position in the 11x11 board\n",
    "\n",
    "\n",
    "        pass"
   ]
  },
  {
   "cell_type": "code",
   "execution_count": 10,
   "metadata": {},
   "outputs": [],
   "source": [
    "temp=TreeNodeSaber()"
   ]
  },
  {
   "cell_type": "code",
   "execution_count": 11,
   "metadata": {},
   "outputs": [
    {
     "name": "stdout",
     "output_type": "stream",
     "text": [
      "['__abstractmethods__', '__class__', '__delattr__', '__dict__', '__dir__', '__doc__', '__eq__', '__format__', '__ge__', '__getattribute__', '__gt__', '__hash__', '__init__', '__init_subclass__', '__le__', '__lt__', '__module__', '__ne__', '__new__', '__reduce__', '__reduce_ex__', '__repr__', '__setattr__', '__sizeof__', '__slots__', '__str__', '__subclasshook__', '__weakref__', '_abc_impl', 'find_action', 'is_terminal', 'update', 'value']\n"
     ]
    }
   ],
   "source": [
    "print(dir(temp))"
   ]
  },
  {
   "cell_type": "code",
   "execution_count": null,
   "metadata": {},
   "outputs": [],
   "source": []
  }
 ],
 "metadata": {
  "kernelspec": {
   "display_name": "Python 3.8.2 64-bit ('venv': venv)",
   "language": "python",
   "name": "python38264bitvenvvenvfd0112a7a244472e8f5294d460a47a5b"
  },
  "language_info": {
   "codemirror_mode": {
    "name": "ipython",
    "version": 3
   },
   "file_extension": ".py",
   "mimetype": "text/x-python",
   "name": "python",
   "nbconvert_exporter": "python",
   "pygments_lexer": "ipython3",
   "version": "3.8.6"
  }
 },
 "nbformat": 4,
 "nbformat_minor": 4
}
